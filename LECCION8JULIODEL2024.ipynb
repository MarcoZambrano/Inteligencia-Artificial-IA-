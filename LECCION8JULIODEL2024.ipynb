{
  "cells": [
    {
      "cell_type": "markdown",
      "metadata": {
        "id": "view-in-github",
        "colab_type": "text"
      },
      "source": [
        "<a href=\"https://colab.research.google.com/github/MarcoZambrano/Inteligencia-Artificial-IA-/blob/main/LECCION8JULIODEL2024.ipynb\" target=\"_parent\"><img src=\"https://colab.research.google.com/assets/colab-badge.svg\" alt=\"Open In Colab\"/></a>"
      ]
    },
    {
      "cell_type": "code",
      "source": [
        "import numpy as np\n",
        "print(np.__version__)"
      ],
      "metadata": {
        "id": "PdPn-icZAWZm",
        "outputId": "be2f4828-a09a-4088-f32d-31a4c8a81393",
        "colab": {
          "base_uri": "https://localhost:8080/"
        }
      },
      "execution_count": null,
      "outputs": [
        {
          "output_type": "stream",
          "name": "stdout",
          "text": [
            "1.25.2\n"
          ]
        }
      ]
    },
    {
      "cell_type": "code",
      "source": [
        "import numpy as np\n",
        "array = np.arange(0, 10)\n",
        "print(array)"
      ],
      "metadata": {
        "id": "6dgqJcIPAlIz",
        "outputId": "b83bf748-d95f-4cb7-c49b-da1b8d2cf430",
        "colab": {
          "base_uri": "https://localhost:8080/"
        }
      },
      "execution_count": null,
      "outputs": [
        {
          "output_type": "stream",
          "name": "stdout",
          "text": [
            "[0 1 2 3 4 5 6 7 8 9]\n"
          ]
        }
      ]
    },
    {
      "cell_type": "code",
      "source": [
        "import numpy as np\n",
        "vector = np.random.rand(10)\n",
        "vector[np.argmax(vector)] = 0\n",
        "print(vector)"
      ],
      "metadata": {
        "id": "HS2R7_NdBLzV",
        "outputId": "ecc7815f-6411-421d-a90b-1ff841f26abb",
        "colab": {
          "base_uri": "https://localhost:8080/"
        }
      },
      "execution_count": null,
      "outputs": [
        {
          "output_type": "stream",
          "name": "stdout",
          "text": [
            "[0.14186504 0.24910488 0.55159594 0.         0.84598837 0.05940593\n",
            " 0.45702703 0.51520962 0.71630612 0.11336464]\n"
          ]
        }
      ]
    },
    {
      "cell_type": "code",
      "source": [
        "import numpy as np\n",
        "arr = np.array([[1,2,3,4,5],[6,7,8,9,10]])\n",
        "print(arr[1,2])\n",
        "\n"
      ],
      "metadata": {
        "id": "_M7Zql61CWpG",
        "outputId": "d6cb288b-8208-40f2-ba47-2a04e977c17f",
        "colab": {
          "base_uri": "https://localhost:8080/"
        }
      },
      "execution_count": null,
      "outputs": [
        {
          "output_type": "stream",
          "name": "stdout",
          "text": [
            "8\n"
          ]
        }
      ]
    },
    {
      "cell_type": "code",
      "source": [
        "import numpy as np\n",
        "arr = np.array([1,2,3,4,5,6,7])\n",
        "subarray = arr[2:5]\n",
        "print(subarray)"
      ],
      "metadata": {
        "id": "kPeyQmPDDTdd",
        "outputId": "4db41929-5b3a-41d1-d500-e749c3274536",
        "colab": {
          "base_uri": "https://localhost:8080/"
        }
      },
      "execution_count": null,
      "outputs": [
        {
          "output_type": "stream",
          "name": "stdout",
          "text": [
            "[3 4 5]\n"
          ]
        }
      ]
    },
    {
      "cell_type": "code",
      "source": [
        "import numpy as np\n",
        "arr = np.array([1,2,3,4,5,6,7])\n",
        "ultimos_cuatro = arr[-4:]\n",
        "print(ultimos_cuatro)"
      ],
      "metadata": {
        "id": "X4x1145wEXL3",
        "outputId": "18cab579-b1a1-4526-c00e-a83a97b30ddc",
        "colab": {
          "base_uri": "https://localhost:8080/"
        }
      },
      "execution_count": null,
      "outputs": [
        {
          "output_type": "stream",
          "name": "stdout",
          "text": [
            "[4 5 6 7]\n"
          ]
        }
      ]
    },
    {
      "cell_type": "code",
      "source": [
        "import numpy as np\n",
        "matriz = np.ones((3, 3), dtype=bool)\n",
        "print(matriz)"
      ],
      "metadata": {
        "id": "-7OkaQXaFPbH",
        "outputId": "f06f4852-e38d-473b-e5ba-5581c5892877",
        "colab": {
          "base_uri": "https://localhost:8080/"
        }
      },
      "execution_count": null,
      "outputs": [
        {
          "output_type": "stream",
          "name": "stdout",
          "text": [
            "[[ True  True  True]\n",
            " [ True  True  True]\n",
            " [ True  True  True]]\n"
          ]
        }
      ]
    },
    {
      "cell_type": "code",
      "source": [
        "import numpy as np\n",
        "arr = np.array([1, 2, 3, 4, 5, 6, 7, 8, 9, 10])\n",
        "impa = [x for x in arr if x % 2 != 0]\n",
        "print(impa)\n"
      ],
      "metadata": {
        "id": "tZ6xMFbHFXmO",
        "outputId": "a2193431-2fa8-437f-eb56-885eb6da4b26",
        "colab": {
          "base_uri": "https://localhost:8080/"
        }
      },
      "execution_count": null,
      "outputs": [
        {
          "output_type": "stream",
          "name": "stdout",
          "text": [
            "[1, 3, 5, 7, 9]\n"
          ]
        }
      ]
    },
    {
      "cell_type": "code",
      "source": [
        "import numpy as np\n",
        "vector = np.arange(10, 50)\n",
        "print(vector)"
      ],
      "metadata": {
        "id": "2K_1radLGO5n",
        "outputId": "dba05d01-a185-491a-cd85-b38e66f33d43",
        "colab": {
          "base_uri": "https://localhost:8080/"
        }
      },
      "execution_count": null,
      "outputs": [
        {
          "output_type": "stream",
          "name": "stdout",
          "text": [
            "[10 11 12 13 14 15 16 17 18 19 20 21 22 23 24 25 26 27 28 29 30 31 32 33\n",
            " 34 35 36 37 38 39 40 41 42 43 44 45 46 47 48 49]\n"
          ]
        }
      ]
    },
    {
      "cell_type": "code",
      "source": [
        "import numpy as np\n",
        "vector = np.array([1, 2, 3, 4, 5])\n",
        "invertido = vector[::-1]\n",
        "print(invertido)\n"
      ],
      "metadata": {
        "id": "Xlna0NWVHCsY",
        "outputId": "87480495-cf41-4153-918f-37e6828d1071",
        "colab": {
          "base_uri": "https://localhost:8080/"
        }
      },
      "execution_count": null,
      "outputs": [
        {
          "output_type": "stream",
          "name": "stdout",
          "text": [
            "[5 4 3 2 1]\n"
          ]
        }
      ]
    },
    {
      "cell_type": "code",
      "source": [
        "import numpy as np\n",
        "aleatoria = np.random.randint(1, 101, size=(10, 10))\n",
        "minimo = aleatoria.min()\n",
        "maximo = aleatoria.max()\n",
        "print(\"MATRIZ ALEATORIA:\")\n",
        "print(aleatoria)\n",
        "\n",
        "print(f\"\\nVALOR MINIMO: {minimo}\")\n",
        "print(f\"VALOR MAXIMO: {maximo}\")\n"
      ],
      "metadata": {
        "id": "9h5hm7qRIGCH",
        "outputId": "58fd25c5-f03b-40fe-e844-5b677288b51f",
        "colab": {
          "base_uri": "https://localhost:8080/"
        }
      },
      "execution_count": null,
      "outputs": [
        {
          "output_type": "stream",
          "name": "stdout",
          "text": [
            "MATRIZ ALEATORIA:\n",
            "[[ 88  16   3  64   8   1  10  74  35  76]\n",
            " [ 10  23  88  72  65  14   1  73  71  90]\n",
            " [ 20  22  35  24  59  16   6  16  85  21]\n",
            " [  5  45  55  35  99  17  83  44   5  54]\n",
            " [ 39  54  21  88   6  42  81  72  17  21]\n",
            " [ 58  90  19  21  35  37  60  33  75  33]\n",
            " [ 99  46  42  98  13 100  26   2  63  17]\n",
            " [ 80  54  40  71  16  74  11  84  76  71]\n",
            " [100  56  33  36  53  77  66  85  59  94]\n",
            " [ 27  34  76  11  85  65  77  81  81  12]]\n",
            "\n",
            "VALOR MINIMO: 1\n",
            "VALOR MAXIMO: 100\n"
          ]
        }
      ]
    },
    {
      "cell_type": "code",
      "source": [
        "import numpy as np\n",
        "matriz = np.random.randint(1, 101, size=(3, 3, 3))\n",
        "\n",
        "print(\"MATRIZ:\")\n",
        "print(matriz)\n"
      ],
      "metadata": {
        "id": "KCHVaD4aIUQp",
        "outputId": "feb00dac-2830-4f4f-c507-cabe94a580ff",
        "colab": {
          "base_uri": "https://localhost:8080/"
        }
      },
      "execution_count": null,
      "outputs": [
        {
          "output_type": "stream",
          "name": "stdout",
          "text": [
            "MATRIZ:\n",
            "[[[12 75 87]\n",
            "  [56 59 17]\n",
            "  [90 81 23]]\n",
            "\n",
            " [[84 96 22]\n",
            "  [51 64 80]\n",
            "  [88 93 49]]\n",
            "\n",
            " [[35 41 85]\n",
            "  [97 99 25]\n",
            "  [77 96 99]]]\n"
          ]
        }
      ]
    },
    {
      "cell_type": "code",
      "source": [
        "import numpy as np\n",
        "aleatoria = np.random.randint(1, 101, size=(10, 10))\n",
        "contador = 1\n",
        "for i in range(aleatoria.shape[0]):\n",
        "    for j in range(aleatoria.shape[1]):\n",
        "        if aleatoria[i, j] % 2 != 0:\n",
        "            aleatoria[i, j] = -1\n",
        "            contador += 1\n",
        "\n",
        "print(\"Matriz con impares reemplazados:\")\n",
        "print(aleatoria)"
      ],
      "metadata": {
        "id": "xHCwuQeuJe04",
        "outputId": "54185a23-648d-46c9-b3d5-62096b73b5aa",
        "colab": {
          "base_uri": "https://localhost:8080/"
        }
      },
      "execution_count": null,
      "outputs": [
        {
          "output_type": "stream",
          "name": "stdout",
          "text": [
            "Matriz con impares reemplazados:\n",
            "[[76 -1 -1 30 92 -1 16  6 12 -1]\n",
            " [50 78 90 30 50 -1 -1 22 20  2]\n",
            " [-1 42 54 -1 -1 -1 54 -1 92 24]\n",
            " [60 28 70 -1 -1 -1 76 96 -1 62]\n",
            " [-1 -1 -1 -1 -1 82 -1 34 -1 36]\n",
            " [16 66 90 -1 -1  2 -1 -1 -1 -1]\n",
            " [96 -1 32 -1 20 -1 54 -1 34 -1]\n",
            " [-1  4 -1 -1 70 20 28 -1 -1 96]\n",
            " [-1 -1 -1 58 -1 -1 -1 72 58 96]\n",
            " [44 -1 -1 -1 -1 -1 14  2 -1 -1]]\n"
          ]
        }
      ]
    },
    {
      "cell_type": "code",
      "source": [
        "import numpy as np\n",
        "mi_arreglo = np.array([1.5, 2.7, 3.14])\n",
        "ceros = np.zeros(5)\n",
        "aleatorios = np.random.rand(4)\n",
        "\n",
        "print(mi_arreglo)\n",
        "print(ceros)\n",
        "print(aleatorios)\n"
      ],
      "metadata": {
        "id": "XsS2YKOcCmg5",
        "outputId": "d3dbe6cd-828f-45bd-deeb-e824c5cb0fe3",
        "colab": {
          "base_uri": "https://localhost:8080/"
        }
      },
      "execution_count": 3,
      "outputs": [
        {
          "output_type": "stream",
          "name": "stdout",
          "text": [
            "[1.5  2.7  3.14]\n",
            "[0. 0. 0. 0. 0.]\n",
            "[0.60056361 0.25961088 0.40909226 0.94450583]\n"
          ]
        }
      ]
    },
    {
      "cell_type": "code",
      "source": [
        "import numpy as np\n",
        "arr = np.array([1, 2, 3, 4, 5, 6])\n",
        "arr_2d = arr.reshape(2, -1)\n",
        "\n",
        "print(arr_2d)\n"
      ],
      "metadata": {
        "id": "3aS8MEEIDRLA",
        "outputId": "8dede752-7431-4b97-9cae-119ba0581b78",
        "colab": {
          "base_uri": "https://localhost:8080/"
        }
      },
      "execution_count": 4,
      "outputs": [
        {
          "output_type": "stream",
          "name": "stdout",
          "text": [
            "[[1 2 3]\n",
            " [4 5 6]]\n"
          ]
        }
      ]
    },
    {
      "cell_type": "code",
      "source": [
        "import numpy as np\n",
        "Z1 = np.random.randint(0, 10, 10)\n",
        "Z2 = np.random.randint(0, 10, 10)\n",
        "\n",
        "common_values = np.intersect1d(Z1, Z2)\n",
        "\n",
        "print(common_values)\n"
      ],
      "metadata": {
        "id": "TIpBaIsFDce7",
        "outputId": "d22609c1-7c88-428a-f69c-3ddf1265e3e1",
        "colab": {
          "base_uri": "https://localhost:8080/"
        }
      },
      "execution_count": 5,
      "outputs": [
        {
          "output_type": "stream",
          "name": "stdout",
          "text": [
            "[5 6 7 8]\n"
          ]
        }
      ]
    },
    {
      "cell_type": "code",
      "source": [
        "import numpy as np\n",
        "\n",
        "A = np.random.randint(0, 2, 5)\n",
        "B = np.random.randint(0, 2, 5)\n",
        "\n",
        "are_equal = np.array_equal(A, B)\n",
        "\n",
        "print(\"Las matrices son iguales:\", are_equal)\n"
      ],
      "metadata": {
        "id": "Mvv-BG6lDi1x",
        "outputId": "4b83df99-8377-4ba3-8002-7cc6b72c5db6",
        "colab": {
          "base_uri": "https://localhost:8080/"
        }
      },
      "execution_count": 9,
      "outputs": [
        {
          "output_type": "stream",
          "name": "stdout",
          "text": [
            "Las matrices son iguales: False\n"
          ]
        }
      ]
    },
    {
      "cell_type": "code",
      "source": [
        "import numpy as np\n",
        "\n",
        "a = np.array([1, 2, 3])\n",
        "b = np.array([4, 5, 6])\n",
        "\n",
        "stacked_array = np.vstack((a, b))\n",
        "\n",
        "print(stacked_array)\n"
      ],
      "metadata": {
        "id": "U3lJ2zFaECC0",
        "outputId": "a647cfad-21d0-4106-8509-0658772a08f7",
        "colab": {
          "base_uri": "https://localhost:8080/"
        }
      },
      "execution_count": 10,
      "outputs": [
        {
          "output_type": "stream",
          "name": "stdout",
          "text": [
            "[[1 2 3]\n",
            " [4 5 6]]\n"
          ]
        }
      ]
    },
    {
      "cell_type": "code",
      "source": [
        "import numpy as np\n",
        "\n",
        "a = np.array([1, 2, 3])\n",
        "b = np.array([4, 5, 6])\n",
        "\n",
        "stacked_array = np.hstack((a, b))\n",
        "\n",
        "print(stacked_array)\n"
      ],
      "metadata": {
        "id": "dd2W9n6VEo2U",
        "outputId": "8e7005d3-133d-40d8-f3ff-b8763ea061ab",
        "colab": {
          "base_uri": "https://localhost:8080/"
        }
      },
      "execution_count": 11,
      "outputs": [
        {
          "output_type": "stream",
          "name": "stdout",
          "text": [
            "[1 2 3 4 5 6]\n"
          ]
        }
      ]
    },
    {
      "cell_type": "code",
      "source": [
        "import numpy as np\n",
        "\n",
        "tmp = np.arange(15)\n",
        "\n",
        "result = tmp[(tmp >= 5) & (tmp < 10)]\n",
        "\n",
        "print(result)\n"
      ],
      "metadata": {
        "id": "qIw5xkzrEx7V",
        "outputId": "d7906268-4ca7-453e-e3b8-103c1dbc79b4",
        "colab": {
          "base_uri": "https://localhost:8080/"
        }
      },
      "execution_count": 12,
      "outputs": [
        {
          "output_type": "stream",
          "name": "stdout",
          "text": [
            "[5 6 7 8 9]\n"
          ]
        }
      ]
    },
    {
      "cell_type": "code",
      "source": [
        "import numpy as np\n",
        "\n",
        "def pair_max(x, y):\n",
        "  \"\"\"Obtiene el máximo de elementos correspondientes en dos matrices.\"\"\"\n",
        "  return np.maximum(x, y)\n",
        "\n",
        "a = np.array([5, 7, 9, 8, 6, 4, 5])\n",
        "b = np.array([6, 3, 4, 8, 9, 7, 1])\n",
        "\n",
        "result = pair_max(a, b)\n",
        "print(result)\n"
      ],
      "metadata": {
        "id": "ruGWOqf4E7k9",
        "outputId": "d85274e7-352d-495d-e5b6-376113ccc390",
        "colab": {
          "base_uri": "https://localhost:8080/"
        }
      },
      "execution_count": 14,
      "outputs": [
        {
          "output_type": "stream",
          "name": "stdout",
          "text": [
            "[6 7 9 8 9 7 5]\n"
          ]
        }
      ]
    },
    {
      "cell_type": "code",
      "source": [
        "import numpy as np\n",
        "\n",
        "arr = np.arange(9).reshape(3, 3)\n",
        "print(\"Matriz original:\")\n",
        "print(arr)\n",
        "\n",
        "arr[:, [0, 1]] = arr[:, [1, 0]]\n",
        "\n",
        "print(\"Matriz después de intercambiar las columnas 1 y 2:\")\n",
        "print(arr)\n"
      ],
      "metadata": {
        "id": "RJS2HO_0FmaQ",
        "outputId": "fe425c78-1989-4398-d6f0-4a54e453fd93",
        "colab": {
          "base_uri": "https://localhost:8080/"
        }
      },
      "execution_count": 15,
      "outputs": [
        {
          "output_type": "stream",
          "name": "stdout",
          "text": [
            "Matriz original:\n",
            "[[0 1 2]\n",
            " [3 4 5]\n",
            " [6 7 8]]\n",
            "Matriz después de intercambiar las columnas 1 y 2:\n",
            "[[1 0 2]\n",
            " [4 3 5]\n",
            " [7 6 8]]\n"
          ]
        }
      ]
    },
    {
      "cell_type": "code",
      "source": [
        "import numpy as np\n",
        "\n",
        "arr = np.random.uniform(5, 10, size=(5, 3))\n",
        "\n",
        "print(arr)\n"
      ],
      "metadata": {
        "id": "-2Eh8-baF74Y",
        "outputId": "ee5b5aa8-68dc-486b-e539-00288da639eb",
        "colab": {
          "base_uri": "https://localhost:8080/"
        }
      },
      "execution_count": 16,
      "outputs": [
        {
          "output_type": "stream",
          "name": "stdout",
          "text": [
            "[[5.10357975 7.96618949 9.9445103 ]\n",
            " [5.3658359  8.99770481 5.31942664]\n",
            " [5.27803527 7.83430955 8.85738947]\n",
            " [6.19627903 6.64768213 5.89642944]\n",
            " [5.5452411  7.90639595 9.42324867]]\n"
          ]
        }
      ]
    }
  ],
  "metadata": {
    "colab": {
      "name": "Te damos la bienvenida a Colaboratory",
      "toc_visible": true,
      "provenance": [],
      "include_colab_link": true
    },
    "kernelspec": {
      "display_name": "Python 3",
      "name": "python3"
    }
  },
  "nbformat": 4,
  "nbformat_minor": 0
}