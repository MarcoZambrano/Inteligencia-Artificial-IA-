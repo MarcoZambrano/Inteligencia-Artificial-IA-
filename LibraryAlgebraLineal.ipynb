{
  "nbformat": 4,
  "nbformat_minor": 0,
  "metadata": {
    "colab": {
      "provenance": [],
      "authorship_tag": "ABX9TyMpqAT6mVCXBQHk58VtD8tg",
      "include_colab_link": true
    },
    "kernelspec": {
      "name": "python3",
      "display_name": "Python 3"
    },
    "language_info": {
      "name": "python"
    }
  },
  "cells": [
    {
      "cell_type": "markdown",
      "metadata": {
        "id": "view-in-github",
        "colab_type": "text"
      },
      "source": [
        "<a href=\"https://colab.research.google.com/github/MarcoZambrano/Inteligencia-Artificial-IA-/blob/main/LibraryAlgebraLineal.ipynb\" target=\"_parent\"><img src=\"https://colab.research.google.com/assets/colab-badge.svg\" alt=\"Open In Colab\"/></a>"
      ]
    },
    {
      "cell_type": "code",
      "execution_count": 3,
      "metadata": {
        "colab": {
          "base_uri": "https://localhost:8080/"
        },
        "id": "tDv1wPZ99Mcx",
        "outputId": "f5b1c8f9-29b9-4865-effe-6698d68a994b"
      },
      "outputs": [
        {
          "output_type": "stream",
          "name": "stdout",
          "text": [
            "(3,)\n",
            "<class 'numpy.ndarray'>\n",
            "[11 22 33]\n",
            "22\n",
            "[11 22]\n",
            "[22 33]\n",
            "[ 11 888  33]\n"
          ]
        }
      ],
      "source": [
        "import numpy as algebraLineal\n",
        "\n",
        "a=algebraLineal.array([11,22,33])\n",
        "print(a.shape)\n",
        "print(type(a))\n",
        "print(a)\n",
        "\n",
        "print(a[1])\n",
        "print(a[:2])\n",
        "print(a[1:])\n",
        "a[1] = 888\n",
        "print(a)"
      ]
    },
    {
      "cell_type": "code",
      "source": [
        "import numpy as np\n",
        "b=np.array([[1,2,3],[11,22,33],[111,222,333]])\n",
        "print(b.shape)\n",
        "print(type(b))\n",
        "print(b)\n",
        "print(b[1,1])\n",
        "aux=b[1:,1:]\n",
        "print(aux.shape)\n",
        "print(aux)\n",
        "\n",
        "print('BEFORE/.....')\n",
        "print(b)\n",
        "print(aux)\n",
        "\n",
        "aux[1,1]=1000\n",
        "\n",
        "print('AFTER/.....')\n",
        "print(b)\n",
        "print(aux)"
      ],
      "metadata": {
        "colab": {
          "base_uri": "https://localhost:8080/"
        },
        "id": "iHadpEmUAeCM",
        "outputId": "33043534-c78c-4373-f930-49b9c90c9ae2"
      },
      "execution_count": 10,
      "outputs": [
        {
          "output_type": "stream",
          "name": "stdout",
          "text": [
            "(3, 3)\n",
            "<class 'numpy.ndarray'>\n",
            "[[  1   2   3]\n",
            " [ 11  22  33]\n",
            " [111 222 333]]\n",
            "22\n",
            "(2, 2)\n",
            "[[ 22  33]\n",
            " [222 333]]\n",
            "BEFORE/.....\n",
            "[[  1   2   3]\n",
            " [ 11  22  33]\n",
            " [111 222 333]]\n",
            "[[ 22  33]\n",
            " [222 333]]\n",
            "AFTER/.....\n",
            "[[   1    2    3]\n",
            " [  11   22   33]\n",
            " [ 111  222 1000]]\n",
            "[[  22   33]\n",
            " [ 222 1000]]\n"
          ]
        }
      ]
    },
    {
      "cell_type": "code",
      "source": [
        "c=np.zeros((4,4))\n",
        "print(c)\n",
        "print(c.shape)\n",
        "d=np.full((4,4),9)\n",
        "print(d)"
      ],
      "metadata": {
        "colab": {
          "base_uri": "https://localhost:8080/"
        },
        "id": "ZHxGQouADh3V",
        "outputId": "13de69c5-6641-4d1c-99ff-99de46d46f15"
      },
      "execution_count": 14,
      "outputs": [
        {
          "output_type": "stream",
          "name": "stdout",
          "text": [
            "[[0. 0. 0. 0.]\n",
            " [0. 0. 0. 0.]\n",
            " [0. 0. 0. 0.]\n",
            " [0. 0. 0. 0.]]\n",
            "(4, 4)\n",
            "[[9 9 9 9]\n",
            " [9 9 9 9]\n",
            " [9 9 9 9]\n",
            " [9 9 9 9]]\n"
          ]
        }
      ]
    },
    {
      "cell_type": "code",
      "source": [
        "e=np.eye(3,3)\n",
        "print(e)\n",
        "f=np.ones((4,5))\n",
        "print(f)"
      ],
      "metadata": {
        "colab": {
          "base_uri": "https://localhost:8080/"
        },
        "id": "9Km9E-QDEY1t",
        "outputId": "864dee3e-05cb-4a26-a162-3ef5d13c9fce"
      },
      "execution_count": 17,
      "outputs": [
        {
          "output_type": "stream",
          "name": "stdout",
          "text": [
            "[[1. 0. 0.]\n",
            " [0. 1. 0.]\n",
            " [0. 0. 1.]]\n",
            "[[1. 1. 1. 1. 1.]\n",
            " [1. 1. 1. 1. 1.]\n",
            " [1. 1. 1. 1. 1.]\n",
            " [1. 1. 1. 1. 1.]]\n"
          ]
        }
      ]
    },
    {
      "cell_type": "code",
      "source": [
        "g=np.random.random((5,5))\n",
        "print(g)"
      ],
      "metadata": {
        "colab": {
          "base_uri": "https://localhost:8080/"
        },
        "id": "a-_cy2HAFDp1",
        "outputId": "1ce991c1-a33a-4701-ec20-29611d1f6ce5"
      },
      "execution_count": 19,
      "outputs": [
        {
          "output_type": "stream",
          "name": "stdout",
          "text": [
            "[[0.11756024 0.06368955 0.98586156 0.92181354 0.63692989]\n",
            " [0.56616486 0.46456553 0.46878598 0.55162078 0.78123697]\n",
            " [0.77059644 0.88878328 0.90030461 0.17907781 0.27012851]\n",
            " [0.69053242 0.56946445 0.79900904 0.77781356 0.58490291]\n",
            " [0.90883989 0.88197874 0.20516416 0.41934438 0.9771752 ]]\n"
          ]
        }
      ]
    },
    {
      "cell_type": "code",
      "source": [
        "tmp1=np.random.randint(1,20,(4,4))\n",
        "print(tmp1)\n",
        "rows=np.array((0,1,2,3))\n",
        "cols=np.arange(4)\n",
        "print(rows)\n",
        "print(cols)\n",
        "print(rows.shape)\n",
        "print(cols.shape)\n",
        "\n",
        "tmp1[rows,cols]=100\n",
        "print(tmp1)"
      ],
      "metadata": {
        "colab": {
          "base_uri": "https://localhost:8080/"
        },
        "id": "-oua0qjfFc0v",
        "outputId": "ea1c5395-6f26-42e4-a682-b41e50859334"
      },
      "execution_count": 29,
      "outputs": [
        {
          "output_type": "stream",
          "name": "stdout",
          "text": [
            "[[11 10 11  1]\n",
            " [ 9  1  8 13]\n",
            " [ 1 18  7  5]\n",
            " [ 7 16  7 13]]\n",
            "[0 1 2 3]\n",
            "[0 1 2 3]\n",
            "(4,)\n",
            "(4,)\n",
            "[[100  10  11   1]\n",
            " [  9 100   8  13]\n",
            " [  1  18 100   5]\n",
            " [  7  16   7 100]]\n"
          ]
        }
      ]
    },
    {
      "cell_type": "code",
      "source": [
        "import numpy as np\n",
        "tmp1= np.random.randint(20, 50, size=(6, 6))\n",
        "print(tmp1)"
      ],
      "metadata": {
        "colab": {
          "base_uri": "https://localhost:8080/"
        },
        "id": "V9B3Bn0gKIXo",
        "outputId": "8f1143b5-4a87-46c8-f5cd-bfc85d1152fb"
      },
      "execution_count": 43,
      "outputs": [
        {
          "output_type": "stream",
          "name": "stdout",
          "text": [
            "[[21 26 29 33 34 45]\n",
            " [22 37 41 49 44 45]\n",
            " [20 21 28 47 24 49]\n",
            " [30 24 33 38 21 46]\n",
            " [48 35 22 23 36 46]\n",
            " [34 47 36 47 36 22]]\n"
          ]
        }
      ]
    },
    {
      "cell_type": "code",
      "source": [
        "filter=(tmp1>45)\n",
        "print(filter)\n",
        "print(tmp1[filter])"
      ],
      "metadata": {
        "colab": {
          "base_uri": "https://localhost:8080/"
        },
        "id": "xlblotUmLQFB",
        "outputId": "64f174a6-34ed-460f-cc58-06a7aba9458e"
      },
      "execution_count": 44,
      "outputs": [
        {
          "output_type": "stream",
          "name": "stdout",
          "text": [
            "[[False False False False False False]\n",
            " [False False False  True False False]\n",
            " [False False False  True False  True]\n",
            " [False False False False False  True]\n",
            " [ True False False False False  True]\n",
            " [False  True False  True False False]]\n",
            "[49 47 49 46 48 46 47 47]\n"
          ]
        }
      ]
    },
    {
      "cell_type": "code",
      "source": [
        "tmp1= np.random.randint(1, 100,(10,10))\n",
        "print(tmp1)"
      ],
      "metadata": {
        "colab": {
          "base_uri": "https://localhost:8080/"
        },
        "id": "-4Re5NOqMaN5",
        "outputId": "e4b472eb-c7d5-4c45-9b2f-4b8c9aacfd44"
      },
      "execution_count": 48,
      "outputs": [
        {
          "output_type": "stream",
          "name": "stdout",
          "text": [
            "[[21 21 85 73 21 78 84 68  5 37]\n",
            " [27 28 50 69 90 89 18 26 73 26]\n",
            " [70  9 73 10 92 25 55 82 49 65]\n",
            " [67 14 59 18 10 69 40 85 16 17]\n",
            " [23 70 60 17 81 19 14 66 90 83]\n",
            " [32 20 36 12  3 13 24 53 83 64]\n",
            " [86 72 57  9 73 15  3 14 78 79]\n",
            " [43 32 72 63 12 47 96 68 86 29]\n",
            " [51 91 37 40 78 83 40 86 61 20]\n",
            " [18 47 64 73 17 41 65 43 16 28]]\n"
          ]
        }
      ]
    },
    {
      "cell_type": "code",
      "source": [
        "filter= (tmp1 % 2 == 0)\n",
        "print(filter)\n",
        "print(tmp1[filter])"
      ],
      "metadata": {
        "colab": {
          "base_uri": "https://localhost:8080/"
        },
        "id": "49wOuP3vNWiS",
        "outputId": "37f334fa-d3b5-4447-9792-ba3077da0e70"
      },
      "execution_count": 51,
      "outputs": [
        {
          "output_type": "stream",
          "name": "stdout",
          "text": [
            "[[False False False False False  True  True  True False False]\n",
            " [False  True  True False  True False  True  True False  True]\n",
            " [ True False False  True  True False False  True False False]\n",
            " [False  True False  True  True False  True False  True False]\n",
            " [False  True  True False False False  True  True  True False]\n",
            " [ True  True  True  True False False  True False False  True]\n",
            " [ True  True False False False False False  True  True False]\n",
            " [False  True  True False  True False  True  True  True False]\n",
            " [False False False  True  True False  True  True False  True]\n",
            " [ True False  True False False False False False  True  True]]\n",
            "[78 84 68 28 50 90 18 26 26 70 10 92 82 14 18 10 40 16 70 60 14 66 90 32\n",
            " 20 36 12 24 64 86 72 14 78 32 72 12 96 68 86 40 78 40 86 20 18 64 16 28]\n"
          ]
        }
      ]
    },
    {
      "cell_type": "code",
      "source": [
        "tmp3=np.array([1,2,3,4,5], dtype=np.float64)\n",
        "print(tmp3.dtype)"
      ],
      "metadata": {
        "colab": {
          "base_uri": "https://localhost:8080/"
        },
        "id": "ZVTJahCBPWYr",
        "outputId": "1e79747e-c16c-499a-fc86-41265f6721e1"
      },
      "execution_count": 54,
      "outputs": [
        {
          "output_type": "stream",
          "name": "stdout",
          "text": [
            "float64\n"
          ]
        }
      ]
    },
    {
      "cell_type": "code",
      "source": [
        "x=np.array([[1,2],[11,22]])\n",
        "y=np.array([[22,33],[44,55]])\n",
        "print(x)\n",
        "print(y)\n",
        "\n",
        "print(np.subtract(x,y))\n",
        "print(np.multiply(x,y))\n",
        "print(np.divide (x,y))"
      ],
      "metadata": {
        "colab": {
          "base_uri": "https://localhost:8080/"
        },
        "id": "pqjty7OyPrM6",
        "outputId": "bfc1b8ce-d043-476b-ccd0-7ee8bf4e0cae"
      },
      "execution_count": 57,
      "outputs": [
        {
          "output_type": "stream",
          "name": "stdout",
          "text": [
            "[[ 1  2]\n",
            " [11 22]]\n",
            "[[22 33]\n",
            " [44 55]]\n",
            "[[-21 -31]\n",
            " [-33 -33]]\n",
            "[[  22   66]\n",
            " [ 484 1210]]\n",
            "[[0.04545455 0.06060606]\n",
            " [0.25       0.4       ]]\n"
          ]
        }
      ]
    },
    {
      "cell_type": "code",
      "source": [
        "tmp1= np.random.randint(1, 10,(2,5))\n",
        "print(tmp1)\n",
        "aux=tmp1.mean()\n",
        "print(aux)"
      ],
      "metadata": {
        "colab": {
          "base_uri": "https://localhost:8080/"
        },
        "id": "iMQaN0X8Qds5",
        "outputId": "86776339-5d37-4bb3-870b-0ea4d76bec8e"
      },
      "execution_count": 60,
      "outputs": [
        {
          "output_type": "stream",
          "name": "stdout",
          "text": [
            "[[2 6 2 8 8]\n",
            " [2 5 6 9 6]]\n",
            "5.4\n"
          ]
        }
      ]
    },
    {
      "cell_type": "code",
      "source": [
        "print(tmp1.mean(axis=1))\n",
        "print(tmp1.mean(axis=0))"
      ],
      "metadata": {
        "colab": {
          "base_uri": "https://localhost:8080/"
        },
        "id": "Hf_2i8ndQ6lJ",
        "outputId": "2ac9966c-c8cb-4080-b6a8-cfc9f23a7dd0"
      },
      "execution_count": 62,
      "outputs": [
        {
          "output_type": "stream",
          "name": "stdout",
          "text": [
            "[5.2 5.6]\n",
            "[2.  5.5 4.  8.5 7. ]\n"
          ]
        }
      ]
    }
  ]
}