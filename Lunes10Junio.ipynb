{
  "cells": [
    {
      "cell_type": "markdown",
      "metadata": {
        "id": "view-in-github",
        "colab_type": "text"
      },
      "source": [
        "<a href=\"https://colab.research.google.com/github/MarcoZambrano/Inteligencia-Artificial-IA-/blob/main/Lunes10Junio.ipynb\" target=\"_parent\"><img src=\"https://colab.research.google.com/assets/colab-badge.svg\" alt=\"Open In Colab\"/></a>"
      ]
    },
    {
      "cell_type": "code",
      "source": [
        "!python3 --version"
      ],
      "metadata": {
        "id": "dCXvlcRbDY38",
        "outputId": "eee4da8f-9072-454f-b8e0-9b0f49ca067b",
        "colab": {
          "base_uri": "https://localhost:8080/"
        }
      },
      "execution_count": null,
      "outputs": [
        {
          "output_type": "stream",
          "name": "stdout",
          "text": [
            "Python 3.10.12\n"
          ]
        }
      ]
    },
    {
      "cell_type": "code",
      "source": [
        "myNumber=3\n",
        "myNumberDecimal=3.6\n",
        "state=True"
      ],
      "metadata": {
        "id": "BAjYFV_rDe2Z"
      },
      "execution_count": null,
      "outputs": []
    },
    {
      "cell_type": "code",
      "source": [
        "print(f'valor entero={myNumber}')\n",
        "print('valor entero es =',myNumber)\n",
        "print(f'valor decimal={myNumberDecimal}')\n",
        "print('valor bool es =', state)"
      ],
      "metadata": {
        "id": "w1YYTIm-ESdX",
        "outputId": "daa0b3d1-d05c-45cf-c0f6-1125c5bceaa8",
        "colab": {
          "base_uri": "https://localhost:8080/"
        }
      },
      "execution_count": null,
      "outputs": [
        {
          "output_type": "stream",
          "name": "stdout",
          "text": [
            "valor entero=3\n",
            "valor entero es = 3\n",
            "valor decimal=3.6\n",
            "valor bool es = True\n"
          ]
        }
      ]
    },
    {
      "cell_type": "code",
      "source": [
        "aux1=10\n",
        "aux2=2\n",
        "\n",
        "print('la suma de la variables aux1 + aux2 =', aux1+aux2)"
      ],
      "metadata": {
        "id": "hFhzs1rWE66A",
        "outputId": "ee710354-f629-4d48-c6b6-e5437d551cb3",
        "colab": {
          "base_uri": "https://localhost:8080/"
        }
      },
      "execution_count": null,
      "outputs": [
        {
          "output_type": "stream",
          "name": "stdout",
          "text": [
            "la suma de la variables aux1 + aux2 = 12\n"
          ]
        }
      ]
    },
    {
      "cell_type": "code",
      "source": [
        "resultado = aux1 ** aux2\n",
        "print(resultado)"
      ],
      "metadata": {
        "id": "QXV3L4n3FJSA",
        "outputId": "17960044-b3b7-4f1d-98fe-f2a11cddb408",
        "colab": {
          "base_uri": "https://localhost:8080/"
        }
      },
      "execution_count": null,
      "outputs": [
        {
          "output_type": "stream",
          "name": "stdout",
          "text": [
            "100\n"
          ]
        }
      ]
    },
    {
      "cell_type": "code",
      "source": [
        "var1='hola'\n",
        "var2='!, Marco'\n",
        "\n",
        "print(var1+var2)"
      ],
      "metadata": {
        "id": "-Pfvw3mmF-rR",
        "outputId": "28ee9d90-c77f-4cbb-a2ee-5b63cc5fcdb8",
        "colab": {
          "base_uri": "https://localhost:8080/"
        }
      },
      "execution_count": null,
      "outputs": [
        {
          "output_type": "stream",
          "name": "stdout",
          "text": [
            "hola!, Marco\n"
          ]
        }
      ]
    },
    {
      "cell_type": "code",
      "source": [
        "print(3*var1)"
      ],
      "metadata": {
        "id": "qMVJPKhvGopS",
        "outputId": "38cca29b-bf53-458f-be05-d399d34a5f3b",
        "colab": {
          "base_uri": "https://localhost:8080/"
        }
      },
      "execution_count": null,
      "outputs": [
        {
          "output_type": "stream",
          "name": "stdout",
          "text": [
            "holaholahola\n"
          ]
        }
      ]
    },
    {
      "cell_type": "code",
      "source": [
        "Number1=10\n",
        "Number2=10.5\n",
        "print('el tipo de numero es:', type(Number1))"
      ],
      "metadata": {
        "id": "IGUwBqcoGvdQ",
        "outputId": "1bc3bcb7-ec85-4e67-c035-f56e5aea28cc",
        "colab": {
          "base_uri": "https://localhost:8080/"
        }
      },
      "execution_count": null,
      "outputs": [
        {
          "output_type": "stream",
          "name": "stdout",
          "text": [
            "el tipo de numero es: <class 'int'>\n"
          ]
        }
      ]
    },
    {
      "cell_type": "code",
      "source": [
        "print('el tipo de numero es:', type(Number2))"
      ],
      "metadata": {
        "id": "sBNc8kciHXUb",
        "outputId": "4fadb26d-5aeb-4690-d194-dd32f898c74e",
        "colab": {
          "base_uri": "https://localhost:8080/"
        }
      },
      "execution_count": null,
      "outputs": [
        {
          "output_type": "stream",
          "name": "stdout",
          "text": [
            "el tipo de numero es: <class 'float'>\n"
          ]
        }
      ]
    },
    {
      "cell_type": "code",
      "source": [
        "#MARTES 25 DE JUNIO DEL 2024\n",
        "#tmp=list()\n",
        "#tmp.append(2)\n",
        "#print(tmp)\n",
        "#tmp.append('Marco')\n",
        "#print(tmp)\n",
        "\n",
        "#tmp.append(2)\n",
        "#print(tmp)\n",
        "#tmp.append('Karen')\n",
        "#print(tmp)\n",
        "#print(tmp[3])\n",
        "#aux=tmp[3]\n",
        "# aux.capitalize()\n",
        "# print(aux)\n",
        "#print(aux.upper())\n",
        "\n",
        "#tmpl='Hola'\n",
        "#print(tmpl.capitalize())\n",
        "\n",
        "#aux1=[1,2,3,4,5,6,7,8,9,10]\n",
        "#print(aux1)\n",
        "\n",
        "#aux1[4]=10\n",
        "#print(aux1)\n",
        "\n",
        "#print(aux1[-1])\n",
        "\n",
        "#print(aux1[3:7])\n",
        "\n",
        "#print(aux1[0:5])\n",
        "\n",
        "#print(aux1[:5])\n",
        "\n",
        "#aux2=list()\n",
        "#for i in range(100):\n",
        "#  aux2.append(i)\n",
        "#print(aux2[:20])\n",
        "\n",
        "#aux3=list()\n",
        "#for indx, elem in enumerate(aux2):\n",
        "#  if aux2[indx]%2==0:\n",
        "#    aux3.append(aux2[indx])\n",
        "\n",
        "#print(aux3)\n",
        "\n",
        "animales=['gato','perro', 'mono', 'conejo']\n",
        "for animal in animales:\n",
        "  print(animal)\n",
        "\n",
        "tmp3=[ i**2 for i in range(10) if  i%2==0]\n",
        "print(tmp3)"
      ],
      "metadata": {
        "colab": {
          "base_uri": "https://localhost:8080/"
        },
        "id": "10uf2XrrqlbM",
        "outputId": "295a8e8a-cee0-486b-912d-0d5cbf136836"
      },
      "execution_count": null,
      "outputs": [
        {
          "output_type": "stream",
          "name": "stdout",
          "text": [
            "gato\n",
            "perro\n",
            "mono\n",
            "conejo\n",
            "[0, 4, 16, 36, 64]\n"
          ]
        }
      ]
    },
    {
      "cell_type": "code",
      "source": [
        "myDictionary={'gato': 'lindo', 'perro':'grande'}\n",
        "print(myDictionary['gato'])\n",
        "myDictAux={'mono':'negro', 'raton': 'pequeño', 'conejo':'blanco'}\n",
        "myDictionary.update(myDictAux)\n",
        "print(myDictionary)\n",
        "for key, value in myDictionary.items():\n",
        "  #print(key)\n",
        "  print(f'key : {key} value: {value}')\n",
        "\n",
        "\n",
        "myList=[1,2,3,4,5,6]\n",
        "myDictAux1={x:x**2 for x in myList}\n",
        "print(myDictAux1)\n"
      ],
      "metadata": {
        "colab": {
          "base_uri": "https://localhost:8080/"
        },
        "id": "e7vMQI-jvngZ",
        "outputId": "ba3f7de4-37e9-43b1-999e-f7807efd94dc"
      },
      "execution_count": null,
      "outputs": [
        {
          "output_type": "stream",
          "name": "stdout",
          "text": [
            "lindo\n",
            "{'gato': 'lindo', 'perro': 'grande', 'mono': 'negro', 'raton': 'pequeño', 'conejo': 'blanco'}\n",
            "key : gato value: lindo\n",
            "key : perro value: grande\n",
            "key : mono value: negro\n",
            "key : raton value: pequeño\n",
            "key : conejo value: blanco\n",
            "{1: 1, 2: 4, 3: 9, 4: 16, 5: 25, 6: 36}\n"
          ]
        }
      ]
    },
    {
      "cell_type": "code",
      "source": [
        "def suma(var1, var2, flag):\n",
        "  if flag==True:\n",
        "    tmp=var1+var2\n",
        "  else:\n",
        "      tmp=var1-var2\n",
        "    #resta\n",
        "  return tmp\n",
        "\n",
        "\n",
        "num1=3\n",
        "num2=7\n",
        "control=True\n",
        "print(suma(num1, num2, control))"
      ],
      "metadata": {
        "colab": {
          "base_uri": "https://localhost:8080/"
        },
        "id": "L19iN08t4HXo",
        "outputId": "fe65cac1-233c-4b5d-a673-bf80ff296b1f"
      },
      "execution_count": null,
      "outputs": [
        {
          "output_type": "stream",
          "name": "stdout",
          "text": [
            "10\n"
          ]
        }
      ]
    },
    {
      "cell_type": "code",
      "source": [
        "listNumeros= [-1,+1,0]\n",
        "\n",
        "def numero_positivo_negativo(numero):\n",
        "  if numero > 0:\n",
        "    print(f'el numero {numero} es el positivo')\n",
        "  elif numero < 0:\n",
        "    print(f'el numero {numero} es negativo')\n",
        "  else:\n",
        "    print(f'el numero es cero')\n",
        "\n",
        "\n",
        "print(numero_positivo_negativo(listNumeros[2]))\n"
      ],
      "metadata": {
        "colab": {
          "base_uri": "https://localhost:8080/"
        },
        "id": "KTYje0Kp77KJ",
        "outputId": "c193c142-5ee9-495b-9bfe-f31eabec416c"
      },
      "execution_count": null,
      "outputs": [
        {
          "output_type": "stream",
          "name": "stdout",
          "text": [
            "el numero es cero\n",
            "None\n"
          ]
        }
      ]
    },
    {
      "cell_type": "code",
      "source": [
        "#SET AS A CONTAINER\n",
        "var1=set()\n",
        "var1.add(3)\n",
        "print(var1)\n",
        "var1.add('Marco')\n",
        "var1.add(True)\n",
        "print(var1)\n",
        "var1.add(5)\n",
        "print(var1)\n",
        "var1.remove('Marco')\n",
        "print(var1)\n",
        "\n",
        "print(len(var1))\n",
        "\n",
        "print(3 in var1)\n",
        "\n",
        "for elem in var1:\n",
        "  print(elem)\n"
      ],
      "metadata": {
        "colab": {
          "base_uri": "https://localhost:8080/"
        },
        "id": "QfUWA2HCytmw",
        "outputId": "eb0e0b99-5e72-485f-f860-3893d8e029c8"
      },
      "execution_count": null,
      "outputs": [
        {
          "output_type": "stream",
          "name": "stdout",
          "text": [
            "{3}\n",
            "{'Marco', True, 3}\n",
            "{'Marco', True, 3, 5}\n",
            "{True, 3, 5}\n",
            "3\n",
            "True\n",
            "True\n",
            "3\n",
            "5\n"
          ]
        }
      ]
    },
    {
      "cell_type": "code",
      "source": [
        "#TUPLES\n",
        "var2=tuple()\n",
        "var=(1,2,3,4,5)\n",
        "print(type(var))\n",
        "aux=list(var)\n",
        "print(type(var))\n",
        "\n",
        "aux[2]=300\n",
        "var=tuple(aux)\n",
        "print(var)\n",
        "print(type(var))"
      ],
      "metadata": {
        "colab": {
          "base_uri": "https://localhost:8080/"
        },
        "id": "R--ZxQFa0etB",
        "outputId": "ec6042ef-a4c1-43a5-e228-25d9c7f68711"
      },
      "execution_count": null,
      "outputs": [
        {
          "output_type": "stream",
          "name": "stdout",
          "text": [
            "<class 'tuple'>\n",
            "<class 'tuple'>\n",
            "(1, 2, 300, 4, 5)\n",
            "<class 'tuple'>\n"
          ]
        }
      ]
    },
    {
      "cell_type": "code",
      "source": [
        "#HOW TO DEFINE A CLASS\n",
        "class saludo(object):\n",
        "  def __init__(self, name):\n",
        "    print('THE OBJECT HAS BEEN CREATED')\n",
        "    self.name=name\n",
        "\n",
        "  def saludoPersona(self):\n",
        "    return f'hola, {self.name}'\n",
        "\n",
        "\n",
        "name1=saludo('Marco')\n",
        "name2=saludo('Karen')\n",
        "name3=saludo('Katherine')\n",
        "\n",
        "print(name1.saludoPersona())\n",
        "print(name2.saludoPersona())\n",
        "print(name3.saludoPersona())"
      ],
      "metadata": {
        "colab": {
          "base_uri": "https://localhost:8080/"
        },
        "id": "Way9QVLm3lzj",
        "outputId": "cdfa7c87-25aa-498b-812e-f94d39d4d503"
      },
      "execution_count": null,
      "outputs": [
        {
          "output_type": "stream",
          "name": "stdout",
          "text": [
            "THE OBJECT HAS BEEN CREATED\n",
            "THE OBJECT HAS BEEN CREATED\n",
            "THE OBJECT HAS BEEN CREATED\n",
            "hola, Marco\n",
            "hola, Karen\n",
            "hola, Katherine\n"
          ]
        }
      ]
    },
    {
      "cell_type": "code",
      "source": [
        "#CLASS\n",
        "\n",
        "import math\n",
        "\n",
        "class FiguraGeometrica:\n",
        "  def __init__(self, radio, base, altura):\n",
        "    self.radio=radio\n",
        "    self.base=base\n",
        "    self.altura=altura\n",
        "\n",
        "  def calcularAreaCirculo(self):\n",
        "    areaCirculo=math.pi * self.radio ** 2\n",
        "    return areaCirculo\n",
        "\n",
        "figura=FiguraGeometrica(radio=5, base=6, altura=4)\n",
        "areaCirculo = figura.calcularAreaCirculo()\n",
        "print(f'{areaCirculo:.2f}')\n"
      ],
      "metadata": {
        "colab": {
          "base_uri": "https://localhost:8080/"
        },
        "id": "qUlQL3Uj-71V",
        "outputId": "1086ca07-c0c5-44a7-fc2d-d0a6d8f39c64"
      },
      "execution_count": null,
      "outputs": [
        {
          "output_type": "stream",
          "name": "stdout",
          "text": [
            "78.54\n"
          ]
        }
      ]
    },
    {
      "cell_type": "code",
      "source": [
        "class imprimir(object):\n",
        "  def __init__(self, name, age):\n",
        "    print(f\"everything is well!!!!!!!\")\n",
        "    self.name=name\n",
        "    self.age=age\n",
        "  def uppercase(self):\n",
        "    return f'Name: {self.name.upper()}'\n",
        "\n",
        "student1=imprimir('Marco',23)\n",
        "\n",
        "print(student1.uppercase())\n"
      ],
      "metadata": {
        "colab": {
          "base_uri": "https://localhost:8080/"
        },
        "id": "59s_o1tvB_lN",
        "outputId": "7122f5a1-472f-4f84-cb5e-6a78a60f636e"
      },
      "execution_count": null,
      "outputs": [
        {
          "output_type": "stream",
          "name": "stdout",
          "text": [
            "everything is well!!!!!!!\n",
            "Name: MARCO\n"
          ]
        }
      ]
    },
    {
      "cell_type": "code",
      "source": [
        "class Calculadora:\n",
        "  def __init__(self, numero):\n",
        "    self.numero = numero\n",
        "\n",
        "  def sumar(self, otro_numero):\n",
        "    resultado = self.numero + otro_numero\n",
        "    self.imprimir_paridad(resultado)\n",
        "    return resultado\n",
        "\n",
        "  def restar(self, otro_numero):\n",
        "    resultado = self.numero - otro_numero\n",
        "    self.imprimir_paridad(resultado)\n",
        "    return resultado\n",
        "\n",
        "  def multiplicar(self, otro_numero):\n",
        "    resultado = self.numero * otro_numero\n",
        "    self.imprimir_paridad(resultado)\n",
        "    return resultado\n",
        "\n",
        "  def imprimir_paridad(self, numero):\n",
        "    if numero % 2 == 0:\n",
        "      print(\"El resultado es par\")\n",
        "    else:\n",
        "      print(\"El resultado es impar\")\n",
        "\n",
        "# Ejemplo de uso\n",
        "calculadora = Calculadora(10)\n",
        "print(calculadora.sumar(3))  # Salida: 8, El resultado es par\n",
        "print(calculadora.restar(2))  # Salida: 3, El resultado es impar\n",
        "print(calculadora.multiplicar(4))  # Salida: 20, El resultado es par"
      ],
      "metadata": {
        "colab": {
          "base_uri": "https://localhost:8080/"
        },
        "id": "B8L-kEx4Ef_-",
        "outputId": "49a1608f-df2f-4664-d611-91025c134210"
      },
      "execution_count": null,
      "outputs": [
        {
          "output_type": "stream",
          "name": "stdout",
          "text": [
            "El resultado es impar\n",
            "13\n",
            "El resultado es par\n",
            "8\n",
            "El resultado es par\n",
            "40\n"
          ]
        }
      ]
    }
  ],
  "metadata": {
    "colab": {
      "toc_visible": true,
      "provenance": [],
      "include_colab_link": true
    },
    "kernelspec": {
      "display_name": "Python 3",
      "name": "python3"
    }
  },
  "nbformat": 4,
  "nbformat_minor": 0
}